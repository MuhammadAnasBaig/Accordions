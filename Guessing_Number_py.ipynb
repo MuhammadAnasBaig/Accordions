{
  "nbformat": 4,
  "nbformat_minor": 0,
  "metadata": {
    "colab": {
      "provenance": [],
      "authorship_tag": "ABX9TyOWjEA5kLfcKK61XZ1wGm+Q",
      "include_colab_link": true
    },
    "kernelspec": {
      "name": "python3",
      "display_name": "Python 3"
    },
    "language_info": {
      "name": "python"
    }
  },
  "cells": [
    {
      "cell_type": "markdown",
      "metadata": {
        "id": "view-in-github",
        "colab_type": "text"
      },
      "source": [
        "<a href=\"https://colab.research.google.com/github/MuhammadAnasBaig/Accordions/blob/main/Guessing_Number_py.ipynb\" target=\"_parent\"><img src=\"https://colab.research.google.com/assets/colab-badge.svg\" alt=\"Open In Colab\"/></a>"
      ]
    },
    {
      "cell_type": "code",
      "execution_count": null,
      "metadata": {
        "colab": {
          "base_uri": "https://localhost:8080/"
        },
        "id": "3ZH6Ta-IIIZo",
        "outputId": "21916d5e-2b1a-47ed-932e-7d93dd113aa8"
      },
      "outputs": [
        {
          "output_type": "stream",
          "name": "stdout",
          "text": [
            "Welcome to the Guessing Number Game!\n",
            "I have selected a number between 1 and 15. Try to guess it.\n",
            "Enter your guess: 7\n",
            "Too low! Try again.\n",
            "Enter your guess: 5\n",
            "Too low! Try again.\n",
            "Enter your guess: 9\n",
            "Too high! Try again.\n",
            "Enter your guess: 4\n",
            "Too low! Try again.\n",
            "Enter your guess: 3\n",
            "Too low! Try again.\n",
            "Enter your guess: 2\n",
            "Too low! Try again.\n",
            "Enter your guess: 1\n",
            "Too low! Try again.\n",
            "Enter your guess: 5\n",
            "Too low! Try again.\n",
            "Enter your guess: 9\n",
            "Too high! Try again.\n",
            "Enter your guess: 9\n",
            "Too high! Try again.\n"
          ]
        }
      ],
      "source": [
        "import random\n",
        "\n",
        "def guessing_game():\n",
        "    # Generate a random number between 1 and 156\n",
        "    secret_number = random.randint(1, 15)\n",
        "\n",
        "    print(\"Welcome to the Guessing Number Game!\")\n",
        "    print(\"I have selected a number between 1 and 15. Try to guess it.\")\n",
        "\n",
        "    attempts = 0\n",
        "\n",
        "    while True:\n",
        "        # Get user input\n",
        "        guess = int(input(\"Enter your guess: \"))\n",
        "        attempts += 1\n",
        "\n",
        "        # Check if the guess is correct\n",
        "        if guess == secret_number:\n",
        "            print(\"Congratulations! You guessed the number in {attempts} attempts.\")\n",
        "            break\n",
        "        elif guess < secret_number:\n",
        "            print(\"Too low! Try again.\")\n",
        "        else:\n",
        "            print(\"Too high! Try again.\")\n",
        "\n",
        "\n",
        "guessing_game()\n"
      ]
    }
  ]
}